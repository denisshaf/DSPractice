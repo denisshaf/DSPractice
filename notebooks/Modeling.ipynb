{
  "nbformat": 4,
  "nbformat_minor": 0,
  "metadata": {
    "colab": {
      "provenance": [],
      "collapsed_sections": [
        "-kX4QTAdnnCp"
      ],
      "authorship_tag": "ABX9TyNOvw5sOuMRsWvlMhovLNF8",
      "include_colab_link": true
    },
    "kernelspec": {
      "name": "python3",
      "display_name": "Python 3"
    },
    "language_info": {
      "name": "python"
    }
  },
  "cells": [
    {
      "cell_type": "markdown",
      "metadata": {
        "id": "view-in-github",
        "colab_type": "text"
      },
      "source": [
        "<a href=\"https://colab.research.google.com/github/denisshaf/DSPractice/blob/DS-2.1/notebooks/Modeling.ipynb\" target=\"_parent\"><img src=\"https://colab.research.google.com/assets/colab-badge.svg\" alt=\"Open In Colab\"/></a>"
      ]
    },
    {
      "cell_type": "markdown",
      "source": [
        "# [Practice DS - 2.1] Baseline modeling pt.1"
      ],
      "metadata": {
        "id": "rUpcf6YUhfX_"
      }
    },
    {
      "cell_type": "code",
      "execution_count": 1,
      "metadata": {
        "id": "O2xrmJFlhbUq"
      },
      "outputs": [],
      "source": [
        "import numpy as np\n",
        "import pandas as pd\n",
        "import dask.dataframe as dd\n",
        "\n",
        "from sklearn.linear_model import LinearRegression\n",
        "from sklearn.base import BaseEstimator, TransformerMixin\n",
        "from sklearn.utils.validation import check_X_y, check_array, check_is_fitted\n",
        "from sklearn.utils.estimator_checks import check_estimator\n",
        "from sklearn.pipeline import Pipeline\n",
        "from sklearn.metrics import mean_squared_error\n",
        "\n",
        "from typing import Dict\n",
        "import gc\n",
        "from time import time"
      ]
    },
    {
      "cell_type": "markdown",
      "source": [
        "## MyDrive"
      ],
      "metadata": {
        "id": "0Hcmt5KEHmoG"
      }
    },
    {
      "cell_type": "code",
      "source": [
        "from google.colab import drive\n",
        "drive.mount('/content/drive')"
      ],
      "metadata": {
        "id": "GJyqXOeA-npq",
        "colab": {
          "base_uri": "https://localhost:8080/"
        },
        "outputId": "c41ba7b3-8d96-4e5d-bca1-133ec47ad79b"
      },
      "execution_count": 2,
      "outputs": [
        {
          "output_type": "stream",
          "name": "stdout",
          "text": [
            "Drive already mounted at /content/drive; to attempt to forcibly remount, call drive.mount(\"/content/drive\", force_remount=True).\n"
          ]
        }
      ]
    },
    {
      "cell_type": "code",
      "source": [
        "!ln -s '/content/drive/MyDrive' '/mydrive'"
      ],
      "metadata": {
        "id": "MTMZkAo4_UPR",
        "colab": {
          "base_uri": "https://localhost:8080/"
        },
        "outputId": "4fa2909b-2eae-40e9-e282-a1ad5e417274"
      },
      "execution_count": 3,
      "outputs": [
        {
          "output_type": "stream",
          "name": "stdout",
          "text": [
            "ln: failed to create symbolic link '/mydrive/MyDrive': Input/output error\n"
          ]
        }
      ]
    },
    {
      "cell_type": "markdown",
      "source": [
        "## Kaggle"
      ],
      "metadata": {
        "id": "bAXjv5GPPMg3"
      }
    },
    {
      "cell_type": "code",
      "source": [
        "!pip install kaggle"
      ],
      "metadata": {
        "colab": {
          "base_uri": "https://localhost:8080/"
        },
        "id": "_GyjHXKpPOBl",
        "outputId": "192f2877-864c-469b-e181-3d7ab062a3c0"
      },
      "execution_count": 33,
      "outputs": [
        {
          "output_type": "stream",
          "name": "stdout",
          "text": [
            "Requirement already satisfied: kaggle in /usr/local/lib/python3.10/dist-packages (1.5.16)\n",
            "Requirement already satisfied: six>=1.10 in /usr/local/lib/python3.10/dist-packages (from kaggle) (1.16.0)\n",
            "Requirement already satisfied: certifi in /usr/local/lib/python3.10/dist-packages (from kaggle) (2024.2.2)\n",
            "Requirement already satisfied: python-dateutil in /usr/local/lib/python3.10/dist-packages (from kaggle) (2.8.2)\n",
            "Requirement already satisfied: requests in /usr/local/lib/python3.10/dist-packages (from kaggle) (2.31.0)\n",
            "Requirement already satisfied: tqdm in /usr/local/lib/python3.10/dist-packages (from kaggle) (4.66.2)\n",
            "Requirement already satisfied: python-slugify in /usr/local/lib/python3.10/dist-packages (from kaggle) (8.0.4)\n",
            "Requirement already satisfied: urllib3 in /usr/local/lib/python3.10/dist-packages (from kaggle) (2.0.7)\n",
            "Requirement already satisfied: bleach in /usr/local/lib/python3.10/dist-packages (from kaggle) (6.1.0)\n",
            "Requirement already satisfied: webencodings in /usr/local/lib/python3.10/dist-packages (from bleach->kaggle) (0.5.1)\n",
            "Requirement already satisfied: text-unidecode>=1.3 in /usr/local/lib/python3.10/dist-packages (from python-slugify->kaggle) (1.3)\n",
            "Requirement already satisfied: charset-normalizer<4,>=2 in /usr/local/lib/python3.10/dist-packages (from requests->kaggle) (3.3.2)\n",
            "Requirement already satisfied: idna<4,>=2.5 in /usr/local/lib/python3.10/dist-packages (from requests->kaggle) (3.6)\n"
          ]
        }
      ]
    },
    {
      "cell_type": "code",
      "source": [
        "!mkdir -p /root/.kaggle/\n",
        "!cp /mydrive/kaggle.json /root/.kaggle/"
      ],
      "metadata": {
        "id": "E4TQIsuKQWBb"
      },
      "execution_count": 40,
      "outputs": []
    },
    {
      "cell_type": "markdown",
      "source": [
        "## Read data"
      ],
      "metadata": {
        "id": "-kX4QTAdnnCp"
      }
    },
    {
      "cell_type": "code",
      "source": [
        "dtypes = {'name2': 'object', 'name3': 'object'}\n",
        "data = dd.read_parquet('/mydrive/DSPractice/data/eda/features.parquet', dtype=dtypes)"
      ],
      "metadata": {
        "id": "3Z_dmXsBnoxn"
      },
      "execution_count": 4,
      "outputs": []
    },
    {
      "cell_type": "code",
      "source": [
        "data"
      ],
      "metadata": {
        "colab": {
          "base_uri": "https://localhost:8080/",
          "height": 292
        },
        "id": "MovYjGPjoe7W",
        "outputId": "966eac2a-b39e-41e4-b530-fd65a89196f4"
      },
      "execution_count": 5,
      "outputs": [
        {
          "output_type": "execute_result",
          "data": {
            "text/plain": [
              "Dask DataFrame Structure:\n",
              "               date_block_num shop_id item_id avg_price item_cnt_month item_revenue shop_month_revenue relative_delta_revenue relative_shop_delta_revenue shop_month_revenue_lag_1 shop_month_revenue_lag_4 shop_month_revenue_lag_12 relative_shop_delta_revenue_lag_1 relative_shop_delta_revenue_lag_4 relative_shop_delta_revenue_lag_12  month   year    city    type item_category_id   name2   name3 category subcategory\n",
              "npartitions=66                                                                                                                                                                                                                                                                                                                                                                                                                  \n",
              "                      float64   int64   int64   float64        float64      float64            float64                float64                     float64                  float64                  float64                   float64                           float64                           float64                            float64  int64  int64  string  string            int64  string  string   string      string\n",
              "                          ...     ...     ...       ...            ...          ...                ...                    ...                         ...                      ...                      ...                       ...                               ...                               ...                                ...    ...    ...     ...     ...              ...     ...     ...      ...         ...\n",
              "...                       ...     ...     ...       ...            ...          ...                ...                    ...                         ...                      ...                      ...                       ...                               ...                               ...                                ...    ...    ...     ...     ...              ...     ...     ...      ...         ...\n",
              "                          ...     ...     ...       ...            ...          ...                ...                    ...                         ...                      ...                      ...                       ...                               ...                               ...                                ...    ...    ...     ...     ...              ...     ...     ...      ...         ...\n",
              "                          ...     ...     ...       ...            ...          ...                ...                    ...                         ...                      ...                      ...                       ...                               ...                               ...                                ...    ...    ...     ...     ...              ...     ...     ...      ...         ...\n",
              "Dask Name: read-parquet, 1 graph layer"
            ],
            "text/html": [
              "<div><strong>Dask DataFrame Structure:</strong></div>\n",
              "<div>\n",
              "<style scoped>\n",
              "    .dataframe tbody tr th:only-of-type {\n",
              "        vertical-align: middle;\n",
              "    }\n",
              "\n",
              "    .dataframe tbody tr th {\n",
              "        vertical-align: top;\n",
              "    }\n",
              "\n",
              "    .dataframe thead th {\n",
              "        text-align: right;\n",
              "    }\n",
              "</style>\n",
              "<table border=\"1\" class=\"dataframe\">\n",
              "  <thead>\n",
              "    <tr style=\"text-align: right;\">\n",
              "      <th></th>\n",
              "      <th>date_block_num</th>\n",
              "      <th>shop_id</th>\n",
              "      <th>item_id</th>\n",
              "      <th>avg_price</th>\n",
              "      <th>item_cnt_month</th>\n",
              "      <th>item_revenue</th>\n",
              "      <th>shop_month_revenue</th>\n",
              "      <th>relative_delta_revenue</th>\n",
              "      <th>relative_shop_delta_revenue</th>\n",
              "      <th>shop_month_revenue_lag_1</th>\n",
              "      <th>shop_month_revenue_lag_4</th>\n",
              "      <th>shop_month_revenue_lag_12</th>\n",
              "      <th>relative_shop_delta_revenue_lag_1</th>\n",
              "      <th>relative_shop_delta_revenue_lag_4</th>\n",
              "      <th>relative_shop_delta_revenue_lag_12</th>\n",
              "      <th>month</th>\n",
              "      <th>year</th>\n",
              "      <th>city</th>\n",
              "      <th>type</th>\n",
              "      <th>item_category_id</th>\n",
              "      <th>name2</th>\n",
              "      <th>name3</th>\n",
              "      <th>category</th>\n",
              "      <th>subcategory</th>\n",
              "    </tr>\n",
              "    <tr>\n",
              "      <th>npartitions=66</th>\n",
              "      <th></th>\n",
              "      <th></th>\n",
              "      <th></th>\n",
              "      <th></th>\n",
              "      <th></th>\n",
              "      <th></th>\n",
              "      <th></th>\n",
              "      <th></th>\n",
              "      <th></th>\n",
              "      <th></th>\n",
              "      <th></th>\n",
              "      <th></th>\n",
              "      <th></th>\n",
              "      <th></th>\n",
              "      <th></th>\n",
              "      <th></th>\n",
              "      <th></th>\n",
              "      <th></th>\n",
              "      <th></th>\n",
              "      <th></th>\n",
              "      <th></th>\n",
              "      <th></th>\n",
              "      <th></th>\n",
              "      <th></th>\n",
              "    </tr>\n",
              "  </thead>\n",
              "  <tbody>\n",
              "    <tr>\n",
              "      <th></th>\n",
              "      <td>float64</td>\n",
              "      <td>int64</td>\n",
              "      <td>int64</td>\n",
              "      <td>float64</td>\n",
              "      <td>float64</td>\n",
              "      <td>float64</td>\n",
              "      <td>float64</td>\n",
              "      <td>float64</td>\n",
              "      <td>float64</td>\n",
              "      <td>float64</td>\n",
              "      <td>float64</td>\n",
              "      <td>float64</td>\n",
              "      <td>float64</td>\n",
              "      <td>float64</td>\n",
              "      <td>float64</td>\n",
              "      <td>int64</td>\n",
              "      <td>int64</td>\n",
              "      <td>string</td>\n",
              "      <td>string</td>\n",
              "      <td>int64</td>\n",
              "      <td>string</td>\n",
              "      <td>string</td>\n",
              "      <td>string</td>\n",
              "      <td>string</td>\n",
              "    </tr>\n",
              "    <tr>\n",
              "      <th></th>\n",
              "      <td>...</td>\n",
              "      <td>...</td>\n",
              "      <td>...</td>\n",
              "      <td>...</td>\n",
              "      <td>...</td>\n",
              "      <td>...</td>\n",
              "      <td>...</td>\n",
              "      <td>...</td>\n",
              "      <td>...</td>\n",
              "      <td>...</td>\n",
              "      <td>...</td>\n",
              "      <td>...</td>\n",
              "      <td>...</td>\n",
              "      <td>...</td>\n",
              "      <td>...</td>\n",
              "      <td>...</td>\n",
              "      <td>...</td>\n",
              "      <td>...</td>\n",
              "      <td>...</td>\n",
              "      <td>...</td>\n",
              "      <td>...</td>\n",
              "      <td>...</td>\n",
              "      <td>...</td>\n",
              "      <td>...</td>\n",
              "    </tr>\n",
              "    <tr>\n",
              "      <th>...</th>\n",
              "      <td>...</td>\n",
              "      <td>...</td>\n",
              "      <td>...</td>\n",
              "      <td>...</td>\n",
              "      <td>...</td>\n",
              "      <td>...</td>\n",
              "      <td>...</td>\n",
              "      <td>...</td>\n",
              "      <td>...</td>\n",
              "      <td>...</td>\n",
              "      <td>...</td>\n",
              "      <td>...</td>\n",
              "      <td>...</td>\n",
              "      <td>...</td>\n",
              "      <td>...</td>\n",
              "      <td>...</td>\n",
              "      <td>...</td>\n",
              "      <td>...</td>\n",
              "      <td>...</td>\n",
              "      <td>...</td>\n",
              "      <td>...</td>\n",
              "      <td>...</td>\n",
              "      <td>...</td>\n",
              "      <td>...</td>\n",
              "    </tr>\n",
              "    <tr>\n",
              "      <th></th>\n",
              "      <td>...</td>\n",
              "      <td>...</td>\n",
              "      <td>...</td>\n",
              "      <td>...</td>\n",
              "      <td>...</td>\n",
              "      <td>...</td>\n",
              "      <td>...</td>\n",
              "      <td>...</td>\n",
              "      <td>...</td>\n",
              "      <td>...</td>\n",
              "      <td>...</td>\n",
              "      <td>...</td>\n",
              "      <td>...</td>\n",
              "      <td>...</td>\n",
              "      <td>...</td>\n",
              "      <td>...</td>\n",
              "      <td>...</td>\n",
              "      <td>...</td>\n",
              "      <td>...</td>\n",
              "      <td>...</td>\n",
              "      <td>...</td>\n",
              "      <td>...</td>\n",
              "      <td>...</td>\n",
              "      <td>...</td>\n",
              "    </tr>\n",
              "    <tr>\n",
              "      <th></th>\n",
              "      <td>...</td>\n",
              "      <td>...</td>\n",
              "      <td>...</td>\n",
              "      <td>...</td>\n",
              "      <td>...</td>\n",
              "      <td>...</td>\n",
              "      <td>...</td>\n",
              "      <td>...</td>\n",
              "      <td>...</td>\n",
              "      <td>...</td>\n",
              "      <td>...</td>\n",
              "      <td>...</td>\n",
              "      <td>...</td>\n",
              "      <td>...</td>\n",
              "      <td>...</td>\n",
              "      <td>...</td>\n",
              "      <td>...</td>\n",
              "      <td>...</td>\n",
              "      <td>...</td>\n",
              "      <td>...</td>\n",
              "      <td>...</td>\n",
              "      <td>...</td>\n",
              "      <td>...</td>\n",
              "      <td>...</td>\n",
              "    </tr>\n",
              "  </tbody>\n",
              "</table>\n",
              "</div>\n",
              "<div>Dask Name: read-parquet, 1 graph layer</div>"
            ]
          },
          "metadata": {},
          "execution_count": 5
        }
      ]
    },
    {
      "cell_type": "code",
      "source": [
        "train_data = data[data['date_block_num'].between(0, 31)]\n",
        "val_data = data[data['date_block_num'] == 32]\n",
        "test_data = data[data['date_block_num'] == 33]"
      ],
      "metadata": {
        "id": "gK5Xc7_F7pRm"
      },
      "execution_count": 6,
      "outputs": []
    },
    {
      "cell_type": "code",
      "source": [
        "test_data = pd.read_csv('/mydrive/DSPractice/data/after_dqc/test.csv')"
      ],
      "metadata": {
        "id": "lIPpAgV9GjNh"
      },
      "execution_count": 14,
      "outputs": []
    },
    {
      "cell_type": "code",
      "source": [
        "test_data"
      ],
      "metadata": {
        "colab": {
          "base_uri": "https://localhost:8080/",
          "height": 424
        },
        "id": "1plcDLPPHD44",
        "outputId": "8b82278a-3e70-4676-dff5-3162a266b60f"
      },
      "execution_count": 15,
      "outputs": [
        {
          "output_type": "execute_result",
          "data": {
            "text/plain": [
              "            ID  shop_id  item_id\n",
              "0            0        5     5037\n",
              "1            1        5     5320\n",
              "2            2        5     5233\n",
              "3            3        5     5232\n",
              "4            4        5     5268\n",
              "...        ...      ...      ...\n",
              "214195  214195       45    18454\n",
              "214196  214196       45    16188\n",
              "214197  214197       45    15757\n",
              "214198  214198       45    19648\n",
              "214199  214199       45      969\n",
              "\n",
              "[214200 rows x 3 columns]"
            ],
            "text/html": [
              "\n",
              "  <div id=\"df-35694f57-cd58-4cf4-a90c-e5b8a1f18ef8\" class=\"colab-df-container\">\n",
              "    <div>\n",
              "<style scoped>\n",
              "    .dataframe tbody tr th:only-of-type {\n",
              "        vertical-align: middle;\n",
              "    }\n",
              "\n",
              "    .dataframe tbody tr th {\n",
              "        vertical-align: top;\n",
              "    }\n",
              "\n",
              "    .dataframe thead th {\n",
              "        text-align: right;\n",
              "    }\n",
              "</style>\n",
              "<table border=\"1\" class=\"dataframe\">\n",
              "  <thead>\n",
              "    <tr style=\"text-align: right;\">\n",
              "      <th></th>\n",
              "      <th>ID</th>\n",
              "      <th>shop_id</th>\n",
              "      <th>item_id</th>\n",
              "    </tr>\n",
              "  </thead>\n",
              "  <tbody>\n",
              "    <tr>\n",
              "      <th>0</th>\n",
              "      <td>0</td>\n",
              "      <td>5</td>\n",
              "      <td>5037</td>\n",
              "    </tr>\n",
              "    <tr>\n",
              "      <th>1</th>\n",
              "      <td>1</td>\n",
              "      <td>5</td>\n",
              "      <td>5320</td>\n",
              "    </tr>\n",
              "    <tr>\n",
              "      <th>2</th>\n",
              "      <td>2</td>\n",
              "      <td>5</td>\n",
              "      <td>5233</td>\n",
              "    </tr>\n",
              "    <tr>\n",
              "      <th>3</th>\n",
              "      <td>3</td>\n",
              "      <td>5</td>\n",
              "      <td>5232</td>\n",
              "    </tr>\n",
              "    <tr>\n",
              "      <th>4</th>\n",
              "      <td>4</td>\n",
              "      <td>5</td>\n",
              "      <td>5268</td>\n",
              "    </tr>\n",
              "    <tr>\n",
              "      <th>...</th>\n",
              "      <td>...</td>\n",
              "      <td>...</td>\n",
              "      <td>...</td>\n",
              "    </tr>\n",
              "    <tr>\n",
              "      <th>214195</th>\n",
              "      <td>214195</td>\n",
              "      <td>45</td>\n",
              "      <td>18454</td>\n",
              "    </tr>\n",
              "    <tr>\n",
              "      <th>214196</th>\n",
              "      <td>214196</td>\n",
              "      <td>45</td>\n",
              "      <td>16188</td>\n",
              "    </tr>\n",
              "    <tr>\n",
              "      <th>214197</th>\n",
              "      <td>214197</td>\n",
              "      <td>45</td>\n",
              "      <td>15757</td>\n",
              "    </tr>\n",
              "    <tr>\n",
              "      <th>214198</th>\n",
              "      <td>214198</td>\n",
              "      <td>45</td>\n",
              "      <td>19648</td>\n",
              "    </tr>\n",
              "    <tr>\n",
              "      <th>214199</th>\n",
              "      <td>214199</td>\n",
              "      <td>45</td>\n",
              "      <td>969</td>\n",
              "    </tr>\n",
              "  </tbody>\n",
              "</table>\n",
              "<p>214200 rows × 3 columns</p>\n",
              "</div>\n",
              "    <div class=\"colab-df-buttons\">\n",
              "\n",
              "  <div class=\"colab-df-container\">\n",
              "    <button class=\"colab-df-convert\" onclick=\"convertToInteractive('df-35694f57-cd58-4cf4-a90c-e5b8a1f18ef8')\"\n",
              "            title=\"Convert this dataframe to an interactive table.\"\n",
              "            style=\"display:none;\">\n",
              "\n",
              "  <svg xmlns=\"http://www.w3.org/2000/svg\" height=\"24px\" viewBox=\"0 -960 960 960\">\n",
              "    <path d=\"M120-120v-720h720v720H120Zm60-500h600v-160H180v160Zm220 220h160v-160H400v160Zm0 220h160v-160H400v160ZM180-400h160v-160H180v160Zm440 0h160v-160H620v160ZM180-180h160v-160H180v160Zm440 0h160v-160H620v160Z\"/>\n",
              "  </svg>\n",
              "    </button>\n",
              "\n",
              "  <style>\n",
              "    .colab-df-container {\n",
              "      display:flex;\n",
              "      gap: 12px;\n",
              "    }\n",
              "\n",
              "    .colab-df-convert {\n",
              "      background-color: #E8F0FE;\n",
              "      border: none;\n",
              "      border-radius: 50%;\n",
              "      cursor: pointer;\n",
              "      display: none;\n",
              "      fill: #1967D2;\n",
              "      height: 32px;\n",
              "      padding: 0 0 0 0;\n",
              "      width: 32px;\n",
              "    }\n",
              "\n",
              "    .colab-df-convert:hover {\n",
              "      background-color: #E2EBFA;\n",
              "      box-shadow: 0px 1px 2px rgba(60, 64, 67, 0.3), 0px 1px 3px 1px rgba(60, 64, 67, 0.15);\n",
              "      fill: #174EA6;\n",
              "    }\n",
              "\n",
              "    .colab-df-buttons div {\n",
              "      margin-bottom: 4px;\n",
              "    }\n",
              "\n",
              "    [theme=dark] .colab-df-convert {\n",
              "      background-color: #3B4455;\n",
              "      fill: #D2E3FC;\n",
              "    }\n",
              "\n",
              "    [theme=dark] .colab-df-convert:hover {\n",
              "      background-color: #434B5C;\n",
              "      box-shadow: 0px 1px 3px 1px rgba(0, 0, 0, 0.15);\n",
              "      filter: drop-shadow(0px 1px 2px rgba(0, 0, 0, 0.3));\n",
              "      fill: #FFFFFF;\n",
              "    }\n",
              "  </style>\n",
              "\n",
              "    <script>\n",
              "      const buttonEl =\n",
              "        document.querySelector('#df-35694f57-cd58-4cf4-a90c-e5b8a1f18ef8 button.colab-df-convert');\n",
              "      buttonEl.style.display =\n",
              "        google.colab.kernel.accessAllowed ? 'block' : 'none';\n",
              "\n",
              "      async function convertToInteractive(key) {\n",
              "        const element = document.querySelector('#df-35694f57-cd58-4cf4-a90c-e5b8a1f18ef8');\n",
              "        const dataTable =\n",
              "          await google.colab.kernel.invokeFunction('convertToInteractive',\n",
              "                                                    [key], {});\n",
              "        if (!dataTable) return;\n",
              "\n",
              "        const docLinkHtml = 'Like what you see? Visit the ' +\n",
              "          '<a target=\"_blank\" href=https://colab.research.google.com/notebooks/data_table.ipynb>data table notebook</a>'\n",
              "          + ' to learn more about interactive tables.';\n",
              "        element.innerHTML = '';\n",
              "        dataTable['output_type'] = 'display_data';\n",
              "        await google.colab.output.renderOutput(dataTable, element);\n",
              "        const docLink = document.createElement('div');\n",
              "        docLink.innerHTML = docLinkHtml;\n",
              "        element.appendChild(docLink);\n",
              "      }\n",
              "    </script>\n",
              "  </div>\n",
              "\n",
              "\n",
              "<div id=\"df-bb348aa6-0d0a-4f8d-a0c8-00df2133b097\">\n",
              "  <button class=\"colab-df-quickchart\" onclick=\"quickchart('df-bb348aa6-0d0a-4f8d-a0c8-00df2133b097')\"\n",
              "            title=\"Suggest charts\"\n",
              "            style=\"display:none;\">\n",
              "\n",
              "<svg xmlns=\"http://www.w3.org/2000/svg\" height=\"24px\"viewBox=\"0 0 24 24\"\n",
              "     width=\"24px\">\n",
              "    <g>\n",
              "        <path d=\"M19 3H5c-1.1 0-2 .9-2 2v14c0 1.1.9 2 2 2h14c1.1 0 2-.9 2-2V5c0-1.1-.9-2-2-2zM9 17H7v-7h2v7zm4 0h-2V7h2v10zm4 0h-2v-4h2v4z\"/>\n",
              "    </g>\n",
              "</svg>\n",
              "  </button>\n",
              "\n",
              "<style>\n",
              "  .colab-df-quickchart {\n",
              "      --bg-color: #E8F0FE;\n",
              "      --fill-color: #1967D2;\n",
              "      --hover-bg-color: #E2EBFA;\n",
              "      --hover-fill-color: #174EA6;\n",
              "      --disabled-fill-color: #AAA;\n",
              "      --disabled-bg-color: #DDD;\n",
              "  }\n",
              "\n",
              "  [theme=dark] .colab-df-quickchart {\n",
              "      --bg-color: #3B4455;\n",
              "      --fill-color: #D2E3FC;\n",
              "      --hover-bg-color: #434B5C;\n",
              "      --hover-fill-color: #FFFFFF;\n",
              "      --disabled-bg-color: #3B4455;\n",
              "      --disabled-fill-color: #666;\n",
              "  }\n",
              "\n",
              "  .colab-df-quickchart {\n",
              "    background-color: var(--bg-color);\n",
              "    border: none;\n",
              "    border-radius: 50%;\n",
              "    cursor: pointer;\n",
              "    display: none;\n",
              "    fill: var(--fill-color);\n",
              "    height: 32px;\n",
              "    padding: 0;\n",
              "    width: 32px;\n",
              "  }\n",
              "\n",
              "  .colab-df-quickchart:hover {\n",
              "    background-color: var(--hover-bg-color);\n",
              "    box-shadow: 0 1px 2px rgba(60, 64, 67, 0.3), 0 1px 3px 1px rgba(60, 64, 67, 0.15);\n",
              "    fill: var(--button-hover-fill-color);\n",
              "  }\n",
              "\n",
              "  .colab-df-quickchart-complete:disabled,\n",
              "  .colab-df-quickchart-complete:disabled:hover {\n",
              "    background-color: var(--disabled-bg-color);\n",
              "    fill: var(--disabled-fill-color);\n",
              "    box-shadow: none;\n",
              "  }\n",
              "\n",
              "  .colab-df-spinner {\n",
              "    border: 2px solid var(--fill-color);\n",
              "    border-color: transparent;\n",
              "    border-bottom-color: var(--fill-color);\n",
              "    animation:\n",
              "      spin 1s steps(1) infinite;\n",
              "  }\n",
              "\n",
              "  @keyframes spin {\n",
              "    0% {\n",
              "      border-color: transparent;\n",
              "      border-bottom-color: var(--fill-color);\n",
              "      border-left-color: var(--fill-color);\n",
              "    }\n",
              "    20% {\n",
              "      border-color: transparent;\n",
              "      border-left-color: var(--fill-color);\n",
              "      border-top-color: var(--fill-color);\n",
              "    }\n",
              "    30% {\n",
              "      border-color: transparent;\n",
              "      border-left-color: var(--fill-color);\n",
              "      border-top-color: var(--fill-color);\n",
              "      border-right-color: var(--fill-color);\n",
              "    }\n",
              "    40% {\n",
              "      border-color: transparent;\n",
              "      border-right-color: var(--fill-color);\n",
              "      border-top-color: var(--fill-color);\n",
              "    }\n",
              "    60% {\n",
              "      border-color: transparent;\n",
              "      border-right-color: var(--fill-color);\n",
              "    }\n",
              "    80% {\n",
              "      border-color: transparent;\n",
              "      border-right-color: var(--fill-color);\n",
              "      border-bottom-color: var(--fill-color);\n",
              "    }\n",
              "    90% {\n",
              "      border-color: transparent;\n",
              "      border-bottom-color: var(--fill-color);\n",
              "    }\n",
              "  }\n",
              "</style>\n",
              "\n",
              "  <script>\n",
              "    async function quickchart(key) {\n",
              "      const quickchartButtonEl =\n",
              "        document.querySelector('#' + key + ' button');\n",
              "      quickchartButtonEl.disabled = true;  // To prevent multiple clicks.\n",
              "      quickchartButtonEl.classList.add('colab-df-spinner');\n",
              "      try {\n",
              "        const charts = await google.colab.kernel.invokeFunction(\n",
              "            'suggestCharts', [key], {});\n",
              "      } catch (error) {\n",
              "        console.error('Error during call to suggestCharts:', error);\n",
              "      }\n",
              "      quickchartButtonEl.classList.remove('colab-df-spinner');\n",
              "      quickchartButtonEl.classList.add('colab-df-quickchart-complete');\n",
              "    }\n",
              "    (() => {\n",
              "      let quickchartButtonEl =\n",
              "        document.querySelector('#df-bb348aa6-0d0a-4f8d-a0c8-00df2133b097 button');\n",
              "      quickchartButtonEl.style.display =\n",
              "        google.colab.kernel.accessAllowed ? 'block' : 'none';\n",
              "    })();\n",
              "  </script>\n",
              "</div>\n",
              "    </div>\n",
              "  </div>\n"
            ],
            "application/vnd.google.colaboratory.intrinsic+json": {
              "type": "dataframe",
              "variable_name": "test_data"
            }
          },
          "metadata": {},
          "execution_count": 15
        }
      ]
    },
    {
      "cell_type": "markdown",
      "source": [
        "## Simple previous months average"
      ],
      "metadata": {
        "id": "eo19YANbnOdH"
      }
    },
    {
      "cell_type": "markdown",
      "source": [],
      "metadata": {
        "id": "vW-WohVRFYxG"
      }
    },
    {
      "cell_type": "code",
      "source": [
        "class PrevMonthAverage(BaseEstimator):\n",
        "  \"This model calculates the value for the next month previous `month_count` months\"\n",
        "\n",
        "  def __init__(self, *, month_count, int_output=False):\n",
        "    self.month_count = month_count\n",
        "    self.int_output = int_output\n",
        "\n",
        "  def fit(self, X, y):\n",
        "\n",
        "    if X.shape[0] != y.shape[0]:\n",
        "      raise ValueError(\"Invalid shapes: X.shape[0] must be equal to y.shape[0]\")\n",
        "\n",
        "    last_month = X['date_block_num'].iloc[-1].item()\n",
        "\n",
        "    if last_month + 1 < self.month_count:\n",
        "      raise ValueError(\"Invalid value `month_count`: `month_count` must be greater or equal max(X['date_block_num']) + 1\")\n",
        "\n",
        "    start_month = last_month - self.month_count + 1\n",
        "    self.data_ = X[X['date_block_num'].between(start_month, last_month)][['shop_id', 'item_id']]\n",
        "    self.data_ = self.data_.merge(y, how='left', left_index=True, right_index=True)\n",
        "    self.data_ = self.data_.rename(columns={y.name: 'target'})\n",
        "\n",
        "    return self\n",
        "\n",
        "  def predict(self, X):\n",
        "    check_is_fitted(self)\n",
        "\n",
        "    index_name = X.index.name if X.index.name is not None else 'index'\n",
        "    X = X.reset_index().merge(self.data_, how='left', on=['shop_id', 'item_id']).set_index(index_name)\n",
        "\n",
        "    y_pred = X.groupby(['shop_id', 'item_id']).mean('target')\n",
        "    if self.int_output:\n",
        "      y_pred = y_pred.round(0)\n",
        "    return y_pred.reset_index()['target']"
      ],
      "metadata": {
        "id": "vSwc-XCeoBQV"
      },
      "execution_count": 31,
      "outputs": []
    },
    {
      "cell_type": "code",
      "source": [
        "class ReplaceTransformer(BaseEstimator, TransformerMixin):\n",
        "  def __init__(self, replace: Dict[str, Dict]):\n",
        "    self.replace = replace\n",
        "\n",
        "  def fit(self, X, y=None):\n",
        "      return self\n",
        "\n",
        "  def transform(self, X, y=None):\n",
        "      return X.replace(self.replace)"
      ],
      "metadata": {
        "id": "RvNXuSgT4I5p"
      },
      "execution_count": 8,
      "outputs": []
    },
    {
      "cell_type": "code",
      "source": [
        "replace_shops_id = {'shop_id': {57: 0, 58: 1, 11: 10}}"
      ],
      "metadata": {
        "id": "EZNXv6gE2lT6"
      },
      "execution_count": 9,
      "outputs": []
    },
    {
      "cell_type": "code",
      "source": [
        "X_train = train_data[['date_block_num', 'shop_id', 'item_id']].astype('float32').compute()\n",
        "y_train = train_data['item_cnt_month'].astype('float32').compute()\n",
        "\n",
        "X_val = val_data[['date_block_num', 'shop_id', 'item_id']].astype('float32').compute()\n",
        "y_val = val_data['item_cnt_month'].astype('float32').compute()\n",
        "\n",
        "X_test = test_data[['date_block_num', 'shop_id', 'item_id']].astype('float32').compute()\n",
        "y_test = test_data['item_cnt_month'].astype('float32').compute()"
      ],
      "metadata": {
        "id": "taMESTe809wG"
      },
      "execution_count": 10,
      "outputs": []
    },
    {
      "cell_type": "code",
      "source": [
        "pipe = Pipeline([('replacer', ReplaceTransformer(replace_shops_id)), ('predictor', PrevMonthAverage(month_count=5, int_output=True))])\n",
        "pipe.fit(X_train, y_train)\n",
        "y_val_pred = pipe.predict(X_val)\n",
        "rmse = mean_squared_error(y_val, y_val_pred)"
      ],
      "metadata": {
        "id": "0dFit_Aps2W_"
      },
      "execution_count": 128,
      "outputs": []
    },
    {
      "cell_type": "code",
      "source": [
        "ind = pd.Index([1, 2])\n",
        "ind.name is None"
      ],
      "metadata": {
        "colab": {
          "base_uri": "https://localhost:8080/"
        },
        "id": "T8wYwNbXOW17",
        "outputId": "79f111ed-d800-4122-e253-d16254314f1e"
      },
      "execution_count": 28,
      "outputs": [
        {
          "output_type": "execute_result",
          "data": {
            "text/plain": [
              "True"
            ]
          },
          "metadata": {},
          "execution_count": 28
        }
      ]
    },
    {
      "cell_type": "code",
      "source": [
        "rmse"
      ],
      "metadata": {
        "colab": {
          "base_uri": "https://localhost:8080/"
        },
        "id": "vdd6rRG5CfqE",
        "outputId": "e4d72e62-7dae-4d61-9ef3-93befd87ae3a"
      },
      "execution_count": 122,
      "outputs": [
        {
          "output_type": "execute_result",
          "data": {
            "text/plain": [
              "9.250426"
            ]
          },
          "metadata": {},
          "execution_count": 122
        }
      ]
    },
    {
      "cell_type": "code",
      "source": [
        "pipe = Pipeline([('replacer', ReplaceTransformer(replace_shops_id)), ('predictor', PrevMonthAverage(month_count=20, int_output=False))])\n",
        "pipe.fit(pd.concat([X_train, X_val]), pd.concat([y_train, y_val]))\n",
        "y_test_pred = pipe.predict(X_test)\n",
        "rmse = mean_squared_error(y_test, y_test_pred)"
      ],
      "metadata": {
        "id": "l53VwFPaD1cI"
      },
      "execution_count": null,
      "outputs": []
    },
    {
      "cell_type": "code",
      "source": [
        "rmse"
      ],
      "metadata": {
        "id": "kL1slh_iEuqs"
      },
      "execution_count": null,
      "outputs": []
    },
    {
      "cell_type": "code",
      "source": [
        "pipe = Pipeline([('replacer', ReplaceTransformer(replace_shops_id)), ('predictor', PrevMonthAverage(month_count=5, int_output=False))])\n",
        "pipe.fit(pd.concat([X_train, X_val, X_test]), pd.concat([y_train, y_val, y_test]))\n",
        "baseline_submission = pipe.predict(test_data[['shop_id', 'item_id']])"
      ],
      "metadata": {
        "id": "Yj4EsNyjEvi7"
      },
      "execution_count": 32,
      "outputs": []
    },
    {
      "cell_type": "code",
      "source": [
        "baseline_submission = baseline_submission.reset_index()\n",
        "baseline_submission.columns = ['ID', 'item_cnt_month']"
      ],
      "metadata": {
        "id": "Gd1V6wE0Pgh-"
      },
      "execution_count": 36,
      "outputs": []
    },
    {
      "cell_type": "code",
      "source": [
        "baseline_submission.to_csv('/content/submission_csv', index=False)"
      ],
      "metadata": {
        "id": "welEXSScPwdR"
      },
      "execution_count": 38,
      "outputs": []
    },
    {
      "cell_type": "code",
      "source": [
        "!kaggle competitions submit competitive-data-science-predict-future-sales -f submission_csv -m \"PrevMonthAverage baseline\""
      ],
      "metadata": {
        "colab": {
          "base_uri": "https://localhost:8080/"
        },
        "id": "htvKd3xhHVOy",
        "outputId": "ff1c208c-2743-4ac4-afb7-6cc02356bf6b"
      },
      "execution_count": 41,
      "outputs": [
        {
          "output_type": "stream",
          "name": "stdout",
          "text": [
            "Warning: Looks like you're using an outdated API Version, please consider updating (server 1.6.11 / client 1.5.16)\n",
            "100% 2.14M/2.14M [00:00<00:00, 8.25MB/s]\n",
            "Successfully submitted to Predict Future Sales"
          ]
        }
      ]
    },
    {
      "cell_type": "markdown",
      "source": [
        "Baseline score on Kaggle: 1.76526"
      ],
      "metadata": {
        "id": "zC075R_YRfqm"
      }
    },
    {
      "cell_type": "code",
      "source": [],
      "metadata": {
        "id": "gq2lUVd_RpGt"
      },
      "execution_count": null,
      "outputs": []
    }
  ]
}